{
 "cells": [
  {
   "cell_type": "code",
   "execution_count": 32,
   "metadata": {},
   "outputs": [],
   "source": [
    "import pandas as pd\n",
    "import numpy as np\n",
    "import matplotlib.pyplot as plt\n",
    "from IPython.display import display, Math, Latex"
   ]
  },
  {
   "cell_type": "markdown",
   "metadata": {},
   "source": [
    "## 1\n",
    "Даны значения величины заработной платы заемщиков банка (zp) и значения их поведенческого кредитного скоринга (ks): zp = [35, 45, 190, 200, 40, 70, 54, 150, 120, 110], ks = [401, 574, 874, 919, 459, 739, 653, 902, 746, 832]. Используя математические операции, посчитать коэффициенты линейной регрессии, приняв за X заработную плату (то есть, zp - признак), а за y - значения скорингового балла (то есть, ks - целевая переменная). Произвести расчет как с использованием intercept, так и без."
   ]
  },
  {
   "cell_type": "code",
   "execution_count": 106,
   "metadata": {},
   "outputs": [],
   "source": [
    "zp = np.array([35, 45, 190, 200, 40, 70, 54, 150, 120, 110])\n",
    "ks = np.array([401, 574, 874, 919, 459, 739, 653, 902, 746, 832])"
   ]
  },
  {
   "cell_type": "code",
   "execution_count": 34,
   "metadata": {},
   "outputs": [
    {
     "data": {
      "text/latex": [
       "$\\displaystyle A=\\dfrac{M[XY]-M[X]M[Y]}{D[X]}$"
      ],
      "text/plain": [
       "<IPython.core.display.Math object>"
      ]
     },
     "metadata": {},
     "output_type": "display_data"
    },
    {
     "data": {
      "text/latex": [
       "$\\displaystyle B=M[Y]-A*M[X]$"
      ],
      "text/plain": [
       "<IPython.core.display.Math object>"
      ]
     },
     "metadata": {},
     "output_type": "display_data"
    },
    {
     "data": {
      "text/latex": [
       "$\\displaystyle y = B + A*x$"
      ],
      "text/plain": [
       "<IPython.core.display.Math object>"
      ]
     },
     "metadata": {},
     "output_type": "display_data"
    }
   ],
   "source": [
    "display(Math(r'A=\\dfrac{M[XY]-M[X]M[Y]}{D[X]}'))\n",
    "display(Math(r'B=M[Y]-A*M[X]'))\n",
    "display(Math(r'y = B + A*x'))"
   ]
  },
  {
   "cell_type": "code",
   "execution_count": 35,
   "metadata": {},
   "outputs": [
    {
     "data": {
      "text/plain": [
       "2.620538882402764"
      ]
     },
     "execution_count": 35,
     "metadata": {},
     "output_type": "execute_result"
    }
   ],
   "source": [
    "A = (np.mean(zp*ks) - np.mean(zp)*np.mean(ks))/(np.std(zp))**2\n",
    "A"
   ]
  },
  {
   "cell_type": "code",
   "execution_count": 36,
   "metadata": {},
   "outputs": [
    {
     "data": {
      "text/plain": [
       "444.1773573243597"
      ]
     },
     "execution_count": 36,
     "metadata": {},
     "output_type": "execute_result"
    }
   ],
   "source": [
    "B = np.mean(ks)-A*np.mean(zp)\n",
    "B"
   ]
  },
  {
   "cell_type": "code",
   "execution_count": 37,
   "metadata": {},
   "outputs": [
    {
     "data": {
      "text/plain": [
       "[<matplotlib.lines.Line2D at 0x1eb207f7400>]"
      ]
     },
     "execution_count": 37,
     "metadata": {},
     "output_type": "execute_result"
    },
    {
     "data": {
      "image/png": "[encoded data removed]",
      "text/plain": [
       "<Figure size 432x288 with 1 Axes>"
      ]
     },
     "metadata": {
      "needs_background": "light"
     },
     "output_type": "display_data"
    }
   ],
   "source": [
    "plt.figure(\"check\", clear=True)\n",
    "plt.plot(zp, ks, '.')\n",
    "plt.plot(zp, B + A * zp)"
   ]
  },
  {
   "cell_type": "code",
   "execution_count": 108,
   "metadata": {},
   "outputs": [
    {
     "data": {
      "text/plain": [
       "array([[  1.,   1.,   1.,   1.,   1.,   1.,   1.,   1.,   1.,   1.],\n",
       "       [ 35.,  45., 190., 200.,  40.,  70.,  54., 150., 120., 110.]])"
      ]
     },
     "execution_count": 108,
     "metadata": {},
     "output_type": "execute_result"
    }
   ],
   "source": [
    "zp = np.vstack([np.ones((1, 10)), zp])\n",
    "zp"
   ]
  },
  {
   "cell_type": "code",
   "execution_count": 109,
   "metadata": {},
   "outputs": [
    {
     "data": {
      "text/plain": [
       "array([444.17735732,   2.62053888])"
      ]
     },
     "execution_count": 109,
     "metadata": {},
     "output_type": "execute_result"
    }
   ],
   "source": [
    "np.linalg.inv(zp.dot(zp.T)).dot(zp).dot(ks.T)"
   ]
  },
  {
   "cell_type": "markdown",
   "metadata": {},
   "source": [
    "**без intercept**"
   ]
  },
  {
   "cell_type": "code",
   "execution_count": 129,
   "metadata": {},
   "outputs": [],
   "source": [
    "zp = np.array([35, 45, 190, 200, 40, 70, 54, 150, 120, 110]).reshape(10,1)\n",
    "ks = np.array([401, 574, 874, 919, 459, 739, 653, 902, 746, 832])"
   ]
  },
  {
   "cell_type": "code",
   "execution_count": 130,
   "metadata": {},
   "outputs": [
    {
     "data": {
      "text/plain": [
       "array([5.88982042])"
      ]
     },
     "execution_count": 130,
     "metadata": {},
     "output_type": "execute_result"
    }
   ],
   "source": [
    "np.linalg.inv((zp.T).dot(zp)).dot(zp.T).dot(ks)"
   ]
  },
  {
   "cell_type": "code",
   "execution_count": null,
   "metadata": {},
   "outputs": [],
   "source": []
  },
  {
   "cell_type": "markdown",
   "metadata": {},
   "source": [
    "## 2\n",
    "Посчитать коэффициент линейной регрессии при заработной плате (zp), используя градиентный спуск (без intercept)"
   ]
  },
  {
   "cell_type": "code",
   "execution_count": 64,
   "metadata": {},
   "outputs": [],
   "source": [
    "zp = np.array([35, 45, 190, 200, 40, 70, 54, 150, 120, 110])\n",
    "ks = np.array([401, 574, 874, 919, 459, 739, 653, 902, 746, 832])\n",
    "alpha = 1e-6\n",
    "A1 = 0.1"
   ]
  },
  {
   "cell_type": "code",
   "execution_count": 65,
   "metadata": {},
   "outputs": [],
   "source": [
    "def mse(X, Y, A1):\n",
    "    return np.sum((Y - (A1*X))**2)/len(X)"
   ]
  },
  {
   "cell_type": "code",
   "execution_count": 66,
   "metadata": {},
   "outputs": [
    {
     "data": {
      "text/plain": [
       "518336.326"
      ]
     },
     "execution_count": 66,
     "metadata": {},
     "output_type": "execute_result"
    }
   ],
   "source": [
    "mse(zp, ks, A1)"
   ]
  },
  {
   "cell_type": "code",
   "execution_count": 67,
   "metadata": {},
   "outputs": [
    {
     "name": "stdout",
     "output_type": "stream",
     "text": [
      "i: 0, A1: 0.25952808, mse: 493237.7212546963\n",
      "i: 100, A1: 5.54537842245223, mse: 58151.31823171113\n",
      "i: 200, A1: 5.868748638669329, mse: 56522.97550129376\n",
      "i: 300, A1: 5.888531320728348, mse: 56516.88130936019\n",
      "i: 400, A1: 5.8897415574471985, mse: 56516.85850140053\n",
      "i: 500, A1: 5.889815595583751, mse: 56516.858416040064\n",
      "i: 600, A1: 5.889820124983314, mse: 56516.85841572062\n",
      "i: 700, A1: 5.889820402076462, mse: 56516.85841571941\n",
      "i: 800, A1: 5.88982041902807, mse: 56516.8584157194\n",
      "i: 900, A1: 5.889820420065112, mse: 56516.85841571941\n"
     ]
    }
   ],
   "source": [
    "n = len(zp)\n",
    "for i in range(1000):\n",
    "    A1 -= alpha*2/n*np.sum(zp*(A1*zp-ks))\n",
    "    if (i%100==0):\n",
    "        print(f\"i: {i}, A1: {A1}, mse: {mse(zp, ks, A1)}\")"
   ]
  },
  {
   "cell_type": "markdown",
   "metadata": {},
   "source": [
    "## 3\n",
    "Произвести вычисления как в пункте 2, но с вычислением intercept. Учесть, что изменение коэффициентов должно производиться\n",
    "на каждом шаге одновременно (то есть изменение одного коэффициента не должно влиять на изменение другого во время одной итерации)."
   ]
  },
  {
   "cell_type": "code",
   "execution_count": 141,
   "metadata": {},
   "outputs": [
    {
     "name": "stdout",
     "output_type": "stream",
     "text": [
      "i: 0, A1: 3.0810107999999996, B1: 399.9996479706832, mse: 7217.718966478186\n",
      "i: 4000, A1: 2.9026376912232794, B1: 405.85101721166546, mse: 6843.024705140111\n",
      "i: 8000, A1: 2.865278626171586, B1: 410.9266722257724, mse: 6750.868170442984\n",
      "i: 12000, A1: 2.8328671174295987, B1: 415.33014529538536, mse: 6681.504409425211\n",
      "i: 16000, A1: 2.8047479474910855, B1: 419.1504551905462, mse: 6629.296160077027\n",
      "i: 20000, A1: 2.7803526709760478, B1: 422.46483169843646, mse: 6590.000405925202\n",
      "i: 24000, A1: 2.759188123176561, B1: 425.34027686846764, mse: 6560.4235418540875\n",
      "i: 28000, A1: 2.740826450445326, B1: 427.8349194976858, mse: 6538.161826634122\n",
      "i: 32000, A1: 2.7248964608852764, B1: 429.999190238221, mse: 6521.406028475698\n",
      "i: 36000, A1: 2.7110761204894263, B1: 431.87684108226136, mse: 6508.794386957905\n",
      "i: 40000, A1: 2.6990860430359906, B1: 433.50582983403683, mse: 6499.301941401462\n",
      "i: 44000, A1: 2.6886838421334347, B1: 434.9190874489089, mse: 6492.157231292559\n",
      "i: 48000, A1: 2.6796592312385257, B1: 436.14518375179375, mse: 6486.7795989177885\n",
      "i: 52000, A1: 2.6718297725915034, B1: 437.2089049927969, mse: 6482.731998732817\n",
      "i: 56000, A1: 2.665037189130646, B1: 438.13175491567745, mse: 6479.685478235403\n"
     ]
    }
   ],
   "source": [
    "zp = np.array([35, 45, 190, 200, 40, 70, 54, 150, 120, 110])\n",
    "ks = np.array([401, 574, 874, 919, 459, 739, 653, 902, 746, 832])\n",
    "alpha = 7e-5\n",
    "A1 = 2.8\n",
    "B1 = 400\n",
    "def mse(X, Y, A1, B1):\n",
    "    return np.sum((Y - (A1*X + B1))**2)/len(X)\n",
    "n = len(zp)\n",
    "for i in range(60000):\n",
    "    A1 -= alpha*2/n*np.sum(zp*(A1*zp+B1-ks))\n",
    "    B1 -= alpha*2/n*np.sum(A1*zp+B1-ks)\n",
    "    if (i%4000==0):\n",
    "        print(f\"i: {i}, A1: {A1}, B1: {B1}, mse: {mse(zp, ks, A1, B1)}\")"
   ]
  },
  {
   "cell_type": "code",
   "execution_count": null,
   "metadata": {},
   "outputs": [],
   "source": []
  }
 ],
 "metadata": {
  "kernelspec": {
   "display_name": "Python 3",
   "language": "python",
   "name": "python3"
  },
  "language_info": {
   "codemirror_mode": {
    "name": "ipython",
    "version": 3
   },
   "file_extension": ".py",
   "mimetype": "text/x-python",
   "name": "python",
   "nbconvert_exporter": "python",
   "pygments_lexer": "ipython3",
   "version": "3.8.3"
  }
 },
 "nbformat": 4,
 "nbformat_minor": 4
}
