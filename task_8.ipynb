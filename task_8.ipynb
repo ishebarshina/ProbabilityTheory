{
 "cells": [
  {
   "cell_type": "code",
   "execution_count": 19,
   "id": "27cdfdfe",
   "metadata": {},
   "outputs": [],
   "source": [
    "import numpy as np\n",
    "import matplotlib.pyplot as plt\n",
    "import pandas as pd\n",
    "import seaborn as sns"
   ]
  },
  {
   "cell_type": "markdown",
   "id": "6df6a3ce",
   "metadata": {},
   "source": [
    "Провести дисперсионный анализ для определения того, есть ли различия среднего роста среди взрослых футболистов, хоккеистов и штангистов. Даны значения роста в трех группах случайно выбранных спортсменов: Футболисты: 173, 175, 180, 178, 177, 185, 183, 182. Хоккеисты: 177, 179, 180, 188, 177, 172, 171, 184, 180. Штангисты: 172, 173, 169, 177, 166, 180, 178, 177, 172, 166, 170."
   ]
  },
  {
   "cell_type": "code",
   "execution_count": 58,
   "id": "ff8d5c4e",
   "metadata": {},
   "outputs": [],
   "source": [
    "footballers = np.array([173, 175, 180, 178, 177, 185, 183, 182])\n",
    "hockey_players = np.array([177, 179, 180, 188, 177, 172, 171, 184, 180])\n",
    "weightlifters = np.array([172, 173, 169, 177, 166, 180, 178, 177, 172, 166, 170])\n",
    "d = {'footballers': pd.Series(footballers), 'hockey_players': pd.Series(hockey_players), 'weightlifters': pd.Series(weightlifters)}\n",
    "df = pd.DataFrame(data=d)"
   ]
  },
  {
   "cell_type": "code",
   "execution_count": 59,
   "id": "c1372d6f",
   "metadata": {},
   "outputs": [
    {
     "data": {
      "image/png": "[encoded data removed]",
      "text/plain": [
       "<Figure size 432x288 with 1 Axes>"
      ]
     },
     "metadata": {},
     "output_type": "display_data"
    }
   ],
   "source": [
    "ax1 = sns.stripplot(data=df)"
   ]
  },
  {
   "cell_type": "code",
   "execution_count": 81,
   "id": "078a99a1",
   "metadata": {},
   "outputs": [
    {
     "name": "stdout",
     "output_type": "stream",
     "text": [
      "n1 = 8, n2 = 9, n3 = 11, n = 28\n",
      "y1 = 179.12, y2 = 178.67, y3 = 172.73, y = 176.46\n",
      "S2 = 830.96\n",
      "S2F = 253.91\n",
      "S2rest = 577.06\n",
      "S22 = 830.96\n",
      "s_F = 126.95\n",
      "s_rest = 23.08\n",
      "F = 5.50\n"
     ]
    }
   ],
   "source": [
    "k = 3\n",
    "n1 = len(footballers)\n",
    "n2 = len(hockey_players)\n",
    "n3 = len(weightlifters)\n",
    "ni = np.array([n1, n2, n3])\n",
    "n = np.sum(ni)\n",
    "y1 = 1 / n1 * np.sum(footballers)\n",
    "y2 = 1 / n2 * np.sum(hockey_players)\n",
    "y3 = 1 / n3 * np.sum(weightlifters)\n",
    "yi = np.array([y1, y2, y3])\n",
    "y = 1 / n * np.sum(yi * ni)\n",
    "S2 = np.sum((footballers - y)**2) + np.sum((hockey_players - y)**2) + np.sum((weightlifters - y)**2)\n",
    "S2F = np.sum(ni * (yi - y)**2)\n",
    "S2rest = np.sum((footballers - y1)**2) + np.sum((hockey_players - y2)**2) + np.sum((weightlifters - y3)**2)\n",
    "S22 = S2F + S2rest\n",
    "s_F = S2F / (k - 1)\n",
    "s_rest = S2rest / (n - k)\n",
    "F = s_F / s_rest\n",
    "\n",
    "print(f\"n1 = {n1}, n2 = {n2}, n3 = {n3}, n = {n}\\ny1 = {y1:.2f}, y2 = {y2:.2f}, y3 = {y3:.2f}, y = {y:.2f}\")\n",
    "print(f\"S2 = {S2:.2f}\")\n",
    "print(f\"S2F = {S2F:.2f}\")\n",
    "print(f\"S2rest = {S2rest:.2f}\")\n",
    "print(f\"S22 = {S22:.2f}\")\n",
    "print(f\"s_F = {s_F:.2f}\")\n",
    "print(f\"s_rest = {s_rest:.2f}\")\n",
    "print(f\"F = {F:.2f}\")"
   ]
  },
  {
   "cell_type": "code",
   "execution_count": 80,
   "id": "35d8599e",
   "metadata": {},
   "outputs": [
    {
     "data": {
      "text/plain": [
       "25"
      ]
     },
     "execution_count": 80,
     "metadata": {},
     "output_type": "execute_result"
    }
   ],
   "source": [
    "n-k"
   ]
  },
  {
   "cell_type": "code",
   "execution_count": 84,
   "id": "adddc2e8",
   "metadata": {},
   "outputs": [
    {
     "data": {
      "text/plain": [
       "2"
      ]
     },
     "execution_count": 84,
     "metadata": {},
     "output_type": "execute_result"
    }
   ],
   "source": [
    "k-1"
   ]
  },
  {
   "cell_type": "markdown",
   "id": "caac5cd5",
   "metadata": {},
   "source": [
    "Табличный критерий Фишера 3.38 <br>\n",
    "Расчетный 5.50"
   ]
  },
  {
   "cell_type": "code",
   "execution_count": 89,
   "id": "c79c94b8",
   "metadata": {},
   "outputs": [
    {
     "data": {
      "text/plain": [
       "F_onewayResult(statistic=5.500053450812596, pvalue=0.010482206918698694)"
      ]
     },
     "execution_count": 89,
     "metadata": {},
     "output_type": "execute_result"
    }
   ],
   "source": [
    "from scipy import stats\n",
    "stats.f_oneway(footballers, hockey_players, weightlifters)"
   ]
  },
  {
   "cell_type": "markdown",
   "id": "f9c37326",
   "metadata": {},
   "source": [
    "P_value = 1% < alpha = 5% <br>\n",
    "Верна альтернативная гипотеза <br>\n",
    "Существует зависимость между ростом спортсмена и видом спорта"
   ]
  },
  {
   "cell_type": "code",
   "execution_count": null,
   "id": "7d7b392c",
   "metadata": {},
   "outputs": [],
   "source": []
  }
 ],
 "metadata": {
  "kernelspec": {
   "display_name": "Python 3",
   "language": "python",
   "name": "python3"
  },
  "language_info": {
   "codemirror_mode": {
    "name": "ipython",
    "version": 3
   },
   "file_extension": ".py",
   "mimetype": "text/x-python",
   "name": "python",
   "nbconvert_exporter": "python",
   "pygments_lexer": "ipython3",
   "version": "3.8.8"
  }
 },
 "nbformat": 4,
 "nbformat_minor": 5
}
